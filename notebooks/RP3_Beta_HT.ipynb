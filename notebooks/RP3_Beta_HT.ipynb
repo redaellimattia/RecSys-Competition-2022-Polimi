{
 "cells": [
  {
   "cell_type": "markdown",
   "metadata": {
    "collapsed": false
   },
   "source": [
    "# RP3 Beta Recommender Implementation"
   ]
  },
  {
   "cell_type": "code",
   "execution_count": null,
   "metadata": {
    "collapsed": false
   },
   "outputs": [],
   "source": [
    "# Data import\n",
    "from utils.data_util import load_URM, combine_matrices, create_submission, write_submission\n",
    "from Data_manager.split_functions.split_train_validation_random_holdout import split_train_in_two_percentage_global_sample\n",
    "\n",
    "# Model\n",
    "from Recommenders.GraphBased.RP3betaRecommender import RP3betaRecommender\n",
    "\n",
    "from Recommenders.DataIO import DataIO\n",
    "\n",
    "# Tuning\n",
    "from HyperparameterTuning.SearchBayesianSkopt import SearchBayesianSkopt\n",
    "\n",
    "# Evaluator\n",
    "from Evaluation.Evaluator import EvaluatorHoldout"
   ]
  },
  {
   "cell_type": "code",
   "execution_count": null,
   "metadata": {
    "collapsed": false
   },
   "outputs": [],
   "source": [
    "URM_all = load_URM()"
   ]
  },
  {
   "attachments": {},
   "cell_type": "markdown",
   "metadata": {
    "collapsed": false
   },
   "source": [
    "## Split into training and test set\n",
    "We split the data into 85% of training set and 15% of test set."
   ]
  },
  {
   "cell_type": "code",
   "execution_count": null,
   "metadata": {
    "collapsed": false
   },
   "outputs": [],
   "source": [
    "URM_train, URM_test = split_train_in_two_percentage_global_sample(URM_all, train_percentage=0.85)\n",
    "URM_train, URM_validation = split_train_in_two_percentage_global_sample(URM_train, train_percentage=0.85)\n",
    "\n",
    "evaluator_validation = EvaluatorHoldout(URM_validation, cutoff_list=[10])\n",
    "evaluator_test = EvaluatorHoldout(URM_test, cutoff_list=[10])"
   ]
  },
  {
   "cell_type": "code",
   "execution_count": null,
   "metadata": {
    "collapsed": false
   },
   "outputs": [],
   "source": [
    "output_folder_path = \"../hyper_param_tuning/\"\n",
    "\n",
    "n_cases = 50  # using 10 as an example\n",
    "n_random_starts = int(n_cases*0.3)\n",
    "metric_to_optimize = \"MAP\"\n",
    "cutoff_to_optimize = 10\n",
    "\n",
    "data_loader = DataIO(folder_path = output_folder_path)"
   ]
  },
  {
   "cell_type": "code",
   "execution_count": null,
   "metadata": {
    "collapsed": false
   },
   "outputs": [],
   "source": [
    "from skopt.space import Real, Integer, Categorical\n",
    "from HyperparameterTuning.SearchAbstractClass import SearchInputRecommenderArgs\n",
    "\n",
    "\n",
    "hyperparameters_range_dictionary = {\n",
    "    \"alpha\": Real(0.1, 1.0),\n",
    "    \"beta\": Real(0.1, 1.0),\n",
    "    \"topK\": Integer(10,1000),\n",
    "    \"implicit\": Categorical([True]),\n",
    "    \"min_rating\": Categorical([0,1]),\n",
    "}\n",
    "\n",
    "\n",
    "recommender_input_args = SearchInputRecommenderArgs(\n",
    "    CONSTRUCTOR_POSITIONAL_ARGS = [URM_train],     # Data needed in the fit during hyperTuning\n",
    "    CONSTRUCTOR_KEYWORD_ARGS = {},\n",
    "    FIT_POSITIONAL_ARGS = [],\n",
    "    FIT_KEYWORD_ARGS = {},\n",
    "    EARLYSTOPPING_KEYWORD_ARGS = {},     # Additional hyperparameters for the fit function\n",
    ")\n",
    "\n",
    "recommender_input_args_last_test = SearchInputRecommenderArgs(\n",
    "    CONSTRUCTOR_POSITIONAL_ARGS = [URM_validation],     # Data needed for the last step evaluation\n",
    "    CONSTRUCTOR_KEYWORD_ARGS = {},\n",
    "    FIT_POSITIONAL_ARGS = [],\n",
    "    FIT_KEYWORD_ARGS = {},\n",
    "    EARLYSTOPPING_KEYWORD_ARGS = {},     # Additional hyperparameters for the fit function\n",
    ")\n",
    "\n",
    "hyperparameterSearch = SearchBayesianSkopt(RP3betaRecommender,\n",
    "                                         evaluator_validation=evaluator_validation,\n",
    "                                         evaluator_test=evaluator_test)\n",
    "\n",
    "hyperparameterSearch.search(recommender_input_args,\n",
    "                       recommender_input_args_last_test = recommender_input_args_last_test,\n",
    "                       hyperparameter_search_space = hyperparameters_range_dictionary,\n",
    "                       n_cases = n_cases,\n",
    "                       n_random_starts = n_random_starts,\n",
    "                       save_model = \"best\",\n",
    "                       output_folder_path = output_folder_path, # Where to save the results\n",
    "                       output_file_name_root = RP3betaRecommender.RECOMMENDER_NAME, # How to call the files\n",
    "                       metric_to_optimize = metric_to_optimize,\n",
    "                       cutoff_to_optimize = cutoff_to_optimize,\n",
    "                      )"
   ]
  },
  {
   "cell_type": "code",
   "execution_count": null,
   "metadata": {
    "collapsed": false
   },
   "outputs": [],
   "source": [
    "search_metadata = data_loader.load_data(RP3betaRecommender.RECOMMENDER_NAME + \"_metadata.zip\")\n",
    "best_hyperparameters = search_metadata[\"hyperparameters_best\"]\n",
    "best_hyperparameters"
   ]
  },
  {
   "cell_type": "markdown",
   "metadata": {
    "collapsed": false
   },
   "source": [
    "## Create and train the model\n",
    "In this notebook we are creating a TopPop recommender, we load it from the course repository."
   ]
  },
  {
   "cell_type": "code",
   "execution_count": null,
   "metadata": {
    "collapsed": false
   },
   "outputs": [],
   "source": [
    "recommender = RP3betaRecommender(URM_train)\n",
    "recommender.fit(alpha=best_hyperparameters['alpha'], beta=best_hyperparameters['beta'], topK=best_hyperparameters['topK'], implicit=best_hyperparameters['implicit'], min_rating=best_hyperparameters['min_rating']) # Train the model"
   ]
  },
  {
   "cell_type": "markdown",
   "metadata": {
    "collapsed": false
   },
   "source": [
    "## Evaluate the model"
   ]
  },
  {
   "cell_type": "code",
   "execution_count": null,
   "metadata": {
    "collapsed": false
   },
   "outputs": [],
   "source": [
    "result_df, _ = evaluator_test.evaluateRecommender(recommender)\n",
    "print(result_df.loc[10])"
   ]
  },
  {
   "cell_type": "markdown",
   "metadata": {
    "collapsed": false
   },
   "source": [
    "## Create and save the submission\n",
    "We can now create the submission and save it as csv."
   ]
  },
  {
   "cell_type": "code",
   "execution_count": null,
   "metadata": {
    "collapsed": false
   },
   "outputs": [],
   "source": [
    "submission = create_submission(recommender)\n",
    "write_submission(submission=submission, file_name='RP3Beta_HT_'+'['+str(result_df.loc[10]['MAP'])+']')"
   ]
  }
 ],
 "metadata": {
  "kernelspec": {
   "display_name": "Python 3",
   "language": "python",
   "name": "python3"
  },
  "language_info": {
   "codemirror_mode": {
    "name": "ipython",
    "version": 2
   },
   "file_extension": ".py",
   "mimetype": "text/x-python",
   "name": "python",
   "nbconvert_exporter": "python",
   "pygments_lexer": "ipython2",
   "version": "3.10.8+ (heads/3.10:9338e9a, Oct 27 2022, 15:44:26) [Clang 14.0.0 (clang-1400.0.29.102)]"
  },
  "vscode": {
   "interpreter": {
    "hash": "17fc4d2c25f3f7b52070ad7daf58df051b07866eddbfe347f3458951d6e914c8"
   }
  }
 },
 "nbformat": 4,
 "nbformat_minor": 0
}

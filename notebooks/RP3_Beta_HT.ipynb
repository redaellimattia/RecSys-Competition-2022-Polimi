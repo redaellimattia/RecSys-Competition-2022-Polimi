{
 "cells": [
  {
   "cell_type": "markdown",
   "metadata": {
    "collapsed": false
   },
   "source": [
    "# RP3 Beta Recommender Implementation"
   ]
  },
  {
   "cell_type": "code",
   "execution_count": 6,
   "metadata": {
    "collapsed": false
   },
   "outputs": [],
   "source": [
    "# Data import\n",
    "from utils.data_util import load_URM, combine_matrices, create_submission, write_submission\n",
    "from Data_manager.split_functions.split_train_validation_random_holdout import split_train_in_two_percentage_global_sample\n",
    "\n",
    "# Model\n",
    "from Recommenders.GraphBased.RP3betaRecommender import RP3betaRecommender\n",
    "\n",
    "from Recommenders.DataIO import DataIO\n",
    "\n",
    "# Tuning\n",
    "from HyperparameterTuning.SearchBayesianSkopt import SearchBayesianSkopt\n",
    "\n",
    "# Evaluator\n",
    "from Evaluation.Evaluator import EvaluatorHoldout"
   ]
  },
  {
   "cell_type": "code",
   "execution_count": 7,
   "metadata": {
    "collapsed": false
   },
   "outputs": [
    {
     "name": "stdout",
     "output_type": "stream",
     "text": [
      "interactions_and_impressions found!\n"
     ]
    }
   ],
   "source": [
    "URM_all = load_URM()"
   ]
  },
  {
   "attachments": {},
   "cell_type": "markdown",
   "metadata": {
    "collapsed": false
   },
   "source": [
    "## Split into training and test set\n",
    "We split the data into 85% of training set and 15% of test set."
   ]
  },
  {
   "cell_type": "code",
   "execution_count": 8,
   "metadata": {
    "collapsed": false
   },
   "outputs": [
    {
     "name": "stdout",
     "output_type": "stream",
     "text": [
      "Warning: 892 (2.14 %) of 41629 users have no sampled items\n",
      "Warning: 1597 (3.84 %) of 41629 users have no sampled items\n",
      "EvaluatorHoldout: Ignoring 1597 ( 3.8%) Users that have less than 1 test interactions\n",
      "EvaluatorHoldout: Ignoring 892 ( 2.1%) Users that have less than 1 test interactions\n"
     ]
    }
   ],
   "source": [
    "URM_train, URM_test = split_train_in_two_percentage_global_sample(URM_all, train_percentage=0.85)\n",
    "URM_train, URM_validation = split_train_in_two_percentage_global_sample(URM_train, train_percentage=0.85)\n",
    "\n",
    "evaluator_validation = EvaluatorHoldout(URM_validation, cutoff_list=[10])\n",
    "evaluator_test = EvaluatorHoldout(URM_test, cutoff_list=[10])"
   ]
  },
  {
   "cell_type": "code",
   "execution_count": 9,
   "metadata": {
    "collapsed": false
   },
   "outputs": [],
   "source": [
    "output_folder_path = \"../hyper_param_tuning/\"\n",
    "\n",
    "n_cases = 50  # using 10 as an example\n",
    "n_random_starts = int(n_cases*0.3)\n",
    "metric_to_optimize = \"MAP\"\n",
    "cutoff_to_optimize = 10\n",
    "\n",
    "data_loader = DataIO(folder_path = output_folder_path)"
   ]
  },
  {
   "cell_type": "code",
   "execution_count": 10,
   "metadata": {
    "collapsed": false
   },
   "outputs": [
    {
     "name": "stdout",
     "output_type": "stream",
     "text": [
      "Iteration No: 1 started. Evaluating function at random point.\n",
      "SearchBayesianSkopt: Testing config: {'alpha': 0.5955046574019568, 'beta': 0.3031813475742793, 'topK': 947, 'implicit': True, 'min_rating': 1}\n",
      "RP3betaRecommender: Similarity column 24507 (100.0%), 463.78 column/sec. Elapsed time 52.84 sec\n",
      "EvaluatorHoldout: Processed 40032 (100.0%) in 57.62 sec. Users per second: 695\n",
      "SearchBayesianSkopt: New best config found. Config 0: {'alpha': 0.5955046574019568, 'beta': 0.3031813475742793, 'topK': 947, 'implicit': True, 'min_rating': 1} - results: PRECISION: 0.0372002, PRECISION_RECALL_MIN_DEN: 0.0721598, RECALL: 0.0694428, MAP: 0.0163895, MAP_MIN_DEN: 0.0315446, MRR: 0.1237528, NDCG: 0.0635505, F1: 0.0484474, HIT_RATE: 0.2788519, ARHR_ALL_HITS: 0.1418944, NOVELTY: 0.0041354, AVERAGE_POPULARITY: 0.2888151, DIVERSITY_MEAN_INTER_LIST: 0.8343631, DIVERSITY_HERFINDAHL: 0.9834342, COVERAGE_ITEM: 0.7346472, COVERAGE_ITEM_HIT: 0.0339495, ITEMS_IN_GT: 0.9864937, COVERAGE_USER: 0.9616373, COVERAGE_USER_HIT: 0.2681544, USERS_IN_GT: 0.9616373, DIVERSITY_GINI: 0.0572762, SHANNON_ENTROPY: 8.1254394, RATIO_DIVERSITY_HERFINDAHL: 0.9837588, RATIO_DIVERSITY_GINI: 0.1131525, RATIO_SHANNON_ENTROPY: 0.6022660, RATIO_AVERAGE_POPULARITY: 5.7192264, RATIO_NOVELTY: 0.2784078, \n",
      "\n",
      "EvaluatorHoldout: Processed 40737 (100.0%) in 43.63 sec. Users per second: 934\n",
      "SearchBayesianSkopt: Config evaluated with evaluator_test. Config: {'alpha': 0.5955046574019568, 'beta': 0.3031813475742793, 'topK': 947, 'implicit': True, 'min_rating': 1} - results:\n",
      "CUTOFF: 10 - PRECISION: 0.0426639, PRECISION_RECALL_MIN_DEN: 0.0729754, RECALL: 0.0685717, MAP: 0.0192482, MAP_MIN_DEN: 0.0326311, MRR: 0.1395810, NDCG: 0.0677308, F1: 0.0526007, HIT_RATE: 0.3073864, ARHR_ALL_HITS: 0.1631786, NOVELTY: 0.0041385, AVERAGE_POPULARITY: 0.2884952, DIVERSITY_MEAN_INTER_LIST: 0.8346807, DIVERSITY_HERFINDAHL: 0.9834660, COVERAGE_ITEM: 0.7426042, COVERAGE_ITEM_HIT: 0.0364794, ITEMS_IN_GT: 0.9926960, COVERAGE_USER: 0.9785726, COVERAGE_USER_HIT: 0.3007999, USERS_IN_GT: 0.9785726, DIVERSITY_GINI: 0.0583735, SHANNON_ENTROPY: 8.1408946, RATIO_DIVERSITY_HERFINDAHL: 0.9837906, RATIO_DIVERSITY_GINI: 0.1153203, RATIO_SHANNON_ENTROPY: 0.6034115, RATIO_AVERAGE_POPULARITY: 5.7128921, RATIO_NOVELTY: 0.2786131, \n",
      "\n",
      "\n",
      "SearchBayesianSkopt: Saving model in /Users/redaellimattia/Desktop/RecSysCompetition/Competition/hyper_param_tuning/RP3betaRecommender\n",
      "\n",
      "RP3betaRecommender: Saving model in file '/Users/redaellimattia/Desktop/RecSysCompetition/Competition/hyper_param_tuning/RP3betaRecommender_best_model'\n",
      "RP3betaRecommender: Saving complete\n",
      "Iteration No: 1 ended. Evaluation done at random point.\n",
      "Time taken: 202.8227\n",
      "Function value obtained: -0.0164\n",
      "Current minimum: -0.0164\n",
      "Iteration No: 2 started. Evaluating function at random point.\n",
      "SearchBayesianSkopt: Testing config: {'alpha': 0.3514766339546822, 'beta': 0.6178082439328865, 'topK': 321, 'implicit': True, 'min_rating': 1}\n",
      "RP3betaRecommender: Similarity column 24507 (100.0%), 946.44 column/sec. Elapsed time 25.89 sec\n",
      "EvaluatorHoldout: Processed 40032 (100.0%) in 37.92 sec. Users per second: 1056\n",
      "SearchBayesianSkopt: New best config found. Config 1: {'alpha': 0.3514766339546822, 'beta': 0.6178082439328865, 'topK': 321, 'implicit': True, 'min_rating': 1} - results: PRECISION: 0.0381320, PRECISION_RECALL_MIN_DEN: 0.0723745, RECALL: 0.0695159, MAP: 0.0170326, MAP_MIN_DEN: 0.0320710, MRR: 0.1259391, NDCG: 0.0645034, F1: 0.0492491, HIT_RATE: 0.2796513, ARHR_ALL_HITS: 0.1458982, NOVELTY: 0.0047013, AVERAGE_POPULARITY: 0.1545472, DIVERSITY_MEAN_INTER_LIST: 0.9577695, DIVERSITY_HERFINDAHL: 0.9957746, COVERAGE_ITEM: 0.7983841, COVERAGE_ITEM_HIT: 0.0587587, ITEMS_IN_GT: 0.9864937, COVERAGE_USER: 0.9616373, COVERAGE_USER_HIT: 0.2689231, USERS_IN_GT: 0.9616373, DIVERSITY_GINI: 0.1071724, SHANNON_ENTROPY: 10.2585870, RATIO_DIVERSITY_HERFINDAHL: 0.9961032, RATIO_DIVERSITY_GINI: 0.2117254, RATIO_SHANNON_ENTROPY: 0.7603771, RATIO_AVERAGE_POPULARITY: 3.0604027, RATIO_NOVELTY: 0.3165025, \n",
      "\n",
      "EvaluatorHoldout: Processed 40737 (100.0%) in 47.31 sec. Users per second: 861\n",
      "SearchBayesianSkopt: Config evaluated with evaluator_test. Config: {'alpha': 0.3514766339546822, 'beta': 0.6178082439328865, 'topK': 321, 'implicit': True, 'min_rating': 1} - results:\n",
      "CUTOFF: 10 - PRECISION: 0.0440165, PRECISION_RECALL_MIN_DEN: 0.0733785, RECALL: 0.0686746, MAP: 0.0201645, MAP_MIN_DEN: 0.0332540, MRR: 0.1417399, NDCG: 0.0687811, F1: 0.0536478, HIT_RATE: 0.3065518, ARHR_ALL_HITS: 0.1682414, NOVELTY: 0.0047075, AVERAGE_POPULARITY: 0.1540049, DIVERSITY_MEAN_INTER_LIST: 0.9580747, DIVERSITY_HERFINDAHL: 0.9958051, COVERAGE_ITEM: 0.8031175, COVERAGE_ITEM_HIT: 0.0612070, ITEMS_IN_GT: 0.9926960, COVERAGE_USER: 0.9785726, COVERAGE_USER_HIT: 0.2999832, USERS_IN_GT: 0.9785726, DIVERSITY_GINI: 0.1089401, SHANNON_ENTROPY: 10.2821931, RATIO_DIVERSITY_HERFINDAHL: 0.9961338, RATIO_DIVERSITY_GINI: 0.2152176, RATIO_SHANNON_ENTROPY: 0.7621268, RATIO_AVERAGE_POPULARITY: 3.0496624, RATIO_NOVELTY: 0.3169213, \n",
      "\n",
      "\n",
      "SearchBayesianSkopt: Saving model in /Users/redaellimattia/Desktop/RecSysCompetition/Competition/hyper_param_tuning/RP3betaRecommender\n",
      "\n",
      "RP3betaRecommender: Saving model in file '/Users/redaellimattia/Desktop/RecSysCompetition/Competition/hyper_param_tuning/RP3betaRecommender_best_model'\n",
      "RP3betaRecommender: Saving complete\n",
      "Iteration No: 2 ended. Evaluation done at random point.\n",
      "Time taken: 139.2290\n",
      "Function value obtained: -0.0170\n",
      "Current minimum: -0.0170\n",
      "Iteration No: 3 started. Evaluating function at random point.\n",
      "SearchBayesianSkopt: Testing config: {'alpha': 0.5034148720535884, 'beta': 0.5719748302544029, 'topK': 375, 'implicit': True, 'min_rating': 0}\n",
      "RP3betaRecommender: Similarity column 24507 (100.0%), 1619.20 column/sec. Elapsed time 15.14 sec\n",
      "EvaluatorHoldout: Processed 40032 (100.0%) in 37.06 sec. Users per second: 1080\n",
      "SearchBayesianSkopt: New best config found. Config 2: {'alpha': 0.5034148720535884, 'beta': 0.5719748302544029, 'topK': 375, 'implicit': True, 'min_rating': 0} - results: PRECISION: 0.0390563, PRECISION_RECALL_MIN_DEN: 0.0742619, RECALL: 0.0713143, MAP: 0.0177382, MAP_MIN_DEN: 0.0335814, MRR: 0.1311340, NDCG: 0.0668617, F1: 0.0504713, HIT_RATE: 0.2855466, ARHR_ALL_HITS: 0.1519348, NOVELTY: 0.0045917, AVERAGE_POPULARITY: 0.1813388, DIVERSITY_MEAN_INTER_LIST: 0.9424854, DIVERSITY_HERFINDAHL: 0.9942462, COVERAGE_ITEM: 0.8043416, COVERAGE_ITEM_HIT: 0.0518627, ITEMS_IN_GT: 0.9864937, COVERAGE_USER: 0.9616373, COVERAGE_USER_HIT: 0.2745922, USERS_IN_GT: 0.9616373, DIVERSITY_GINI: 0.1039863, SHANNON_ENTROPY: 9.9082911, RATIO_DIVERSITY_HERFINDAHL: 0.9945744, RATIO_DIVERSITY_GINI: 0.2054312, RATIO_SHANNON_ENTROPY: 0.7344128, RATIO_AVERAGE_POPULARITY: 3.5909395, RATIO_NOVELTY: 0.3091219, \n",
      "\n",
      "EvaluatorHoldout: Processed 40737 (100.0%) in 46.49 sec. Users per second: 876\n",
      "SearchBayesianSkopt: Config evaluated with evaluator_test. Config: {'alpha': 0.5034148720535884, 'beta': 0.5719748302544029, 'topK': 375, 'implicit': True, 'min_rating': 0} - results:\n",
      "CUTOFF: 10 - PRECISION: 0.0449493, PRECISION_RECALL_MIN_DEN: 0.0751551, RECALL: 0.0703786, MAP: 0.0209704, MAP_MIN_DEN: 0.0347870, MRR: 0.1479966, NDCG: 0.0712495, F1: 0.0548604, HIT_RATE: 0.3130078, ARHR_ALL_HITS: 0.1752938, NOVELTY: 0.0045979, AVERAGE_POPULARITY: 0.1807552, DIVERSITY_MEAN_INTER_LIST: 0.9428342, DIVERSITY_HERFINDAHL: 0.9942811, COVERAGE_ITEM: 0.8096054, COVERAGE_ITEM_HIT: 0.0554127, ITEMS_IN_GT: 0.9926960, COVERAGE_USER: 0.9785726, COVERAGE_USER_HIT: 0.3063009, USERS_IN_GT: 0.9785726, DIVERSITY_GINI: 0.1056377, SHANNON_ENTROPY: 9.9318401, RATIO_DIVERSITY_HERFINDAHL: 0.9946093, RATIO_DIVERSITY_GINI: 0.2086935, RATIO_SHANNON_ENTROPY: 0.7361582, RATIO_AVERAGE_POPULARITY: 3.5793837, RATIO_NOVELTY: 0.3095408, \n",
      "\n",
      "\n",
      "SearchBayesianSkopt: Saving model in /Users/redaellimattia/Desktop/RecSysCompetition/Competition/hyper_param_tuning/RP3betaRecommender\n",
      "\n",
      "RP3betaRecommender: Saving model in file '/Users/redaellimattia/Desktop/RecSysCompetition/Competition/hyper_param_tuning/RP3betaRecommender_best_model'\n",
      "RP3betaRecommender: Saving complete\n",
      "Iteration No: 3 ended. Evaluation done at random point.\n",
      "Time taken: 121.0475\n",
      "Function value obtained: -0.0177\n",
      "Current minimum: -0.0177\n",
      "Iteration No: 4 started. Evaluating function at random point.\n",
      "SearchBayesianSkopt: Testing config: {'alpha': 0.7780695378545898, 'beta': 0.17913767935573932, 'topK': 354, 'implicit': True, 'min_rating': 0}\n",
      "RP3betaRecommender: Similarity column 24507 (100.0%), 843.49 column/sec. Elapsed time 29.05 sec\n",
      "EvaluatorHoldout: Processed 40032 (100.0%) in 40.10 sec. Users per second: 998\n",
      "SearchBayesianSkopt: Config 3 is suboptimal. Config: {'alpha': 0.7780695378545898, 'beta': 0.17913767935573932, 'topK': 354, 'implicit': True, 'min_rating': 0} - results: PRECISION: 0.0377798, PRECISION_RECALL_MIN_DEN: 0.0734215, RECALL: 0.0706710, MAP: 0.0165918, MAP_MIN_DEN: 0.0318921, MRR: 0.1253461, NDCG: 0.0644539, F1: 0.0492377, HIT_RATE: 0.2836231, ARHR_ALL_HITS: 0.1436767, NOVELTY: 0.0040543, AVERAGE_POPULARITY: 0.2847895, DIVERSITY_MEAN_INTER_LIST: 0.8454335, DIVERSITY_HERFINDAHL: 0.9845412, COVERAGE_ITEM: 0.4811686, COVERAGE_ITEM_HIT: 0.0331742, ITEMS_IN_GT: 0.9864937, COVERAGE_USER: 0.9616373, COVERAGE_USER_HIT: 0.2727426, USERS_IN_GT: 0.9616373, DIVERSITY_GINI: 0.0242047, SHANNON_ENTROPY: 7.7839844, RATIO_DIVERSITY_HERFINDAHL: 0.9848662, RATIO_DIVERSITY_GINI: 0.0478178, RATIO_SHANNON_ENTROPY: 0.5769570, RATIO_AVERAGE_POPULARITY: 5.6395091, RATIO_NOVELTY: 0.2729467, \n",
      "\n",
      "Iteration No: 4 ended. Evaluation done at random point.\n",
      "Time taken: 81.9288\n",
      "Function value obtained: -0.0166\n",
      "Current minimum: -0.0177\n",
      "Iteration No: 5 started. Evaluating function at random point.\n",
      "SearchBayesianSkopt: Testing config: {'alpha': 0.5324935597595416, 'beta': 0.18288257792926307, 'topK': 742, 'implicit': True, 'min_rating': 0}\n",
      "RP3betaRecommender: Similarity column 24507 (100.0%), 606.31 column/sec. Elapsed time 40.42 sec\n",
      "EvaluatorHoldout: Processed 40032 (100.0%) in 53.77 sec. Users per second: 745\n",
      "SearchBayesianSkopt: Config 4 is suboptimal. Config: {'alpha': 0.5324935597595416, 'beta': 0.18288257792926307, 'topK': 742, 'implicit': True, 'min_rating': 0} - results: PRECISION: 0.0364633, PRECISION_RECALL_MIN_DEN: 0.0710427, RECALL: 0.0683842, MAP: 0.0157452, MAP_MIN_DEN: 0.0303357, MRR: 0.1195672, NDCG: 0.0617641, F1: 0.0475646, HIT_RATE: 0.2753297, ARHR_ALL_HITS: 0.1367074, NOVELTY: 0.0039633, AVERAGE_POPULARITY: 0.3128934, DIVERSITY_MEAN_INTER_LIST: 0.8043446, DIVERSITY_HERFINDAHL: 0.9804325, COVERAGE_ITEM: 0.4154323, COVERAGE_ITEM_HIT: 0.0302771, ITEMS_IN_GT: 0.9864937, COVERAGE_USER: 0.9616373, COVERAGE_USER_HIT: 0.2647673, USERS_IN_GT: 0.9616373, DIVERSITY_GINI: 0.0179388, SHANNON_ENTROPY: 7.3610127, RATIO_DIVERSITY_HERFINDAHL: 0.9807561, RATIO_DIVERSITY_GINI: 0.0354392, RATIO_SHANNON_ENTROPY: 0.5456059, RATIO_AVERAGE_POPULARITY: 6.1960328, RATIO_NOVELTY: 0.2668167, \n",
      "\n",
      "Iteration No: 5 ended. Evaluation done at random point.\n",
      "Time taken: 115.3577\n",
      "Function value obtained: -0.0157\n",
      "Current minimum: -0.0177\n",
      "Iteration No: 6 started. Evaluating function at random point.\n",
      "SearchBayesianSkopt: Testing config: {'alpha': 0.9526677237346559, 'beta': 0.85027056800831, 'topK': 537, 'implicit': True, 'min_rating': 0}\n"
     ]
    },
    {
     "ename": "KeyboardInterrupt",
     "evalue": "",
     "output_type": "error",
     "traceback": [
      "\u001b[0;31m---------------------------------------------------------------------------\u001b[0m",
      "\u001b[0;31mKeyboardInterrupt\u001b[0m                         Traceback (most recent call last)",
      "Cell \u001b[0;32mIn [10], line 34\u001b[0m\n\u001b[1;32m     22\u001b[0m recommender_input_args_last_test \u001b[38;5;241m=\u001b[39m SearchInputRecommenderArgs(\n\u001b[1;32m     23\u001b[0m     CONSTRUCTOR_POSITIONAL_ARGS \u001b[38;5;241m=\u001b[39m [URM_validation],     \u001b[38;5;66;03m# Data needed for the last step evaluation\u001b[39;00m\n\u001b[1;32m     24\u001b[0m     CONSTRUCTOR_KEYWORD_ARGS \u001b[38;5;241m=\u001b[39m {},\n\u001b[0;32m   (...)\u001b[0m\n\u001b[1;32m     27\u001b[0m     EARLYSTOPPING_KEYWORD_ARGS \u001b[38;5;241m=\u001b[39m {},     \u001b[38;5;66;03m# Additional hyperparameters for the fit function\u001b[39;00m\n\u001b[1;32m     28\u001b[0m )\n\u001b[1;32m     30\u001b[0m hyperparameterSearch \u001b[38;5;241m=\u001b[39m SearchBayesianSkopt(RP3betaRecommender,\n\u001b[1;32m     31\u001b[0m                                          evaluator_validation\u001b[38;5;241m=\u001b[39mevaluator_validation,\n\u001b[1;32m     32\u001b[0m                                          evaluator_test\u001b[38;5;241m=\u001b[39mevaluator_test)\n\u001b[0;32m---> 34\u001b[0m \u001b[43mhyperparameterSearch\u001b[49m\u001b[38;5;241;43m.\u001b[39;49m\u001b[43msearch\u001b[49m\u001b[43m(\u001b[49m\u001b[43mrecommender_input_args\u001b[49m\u001b[43m,\u001b[49m\n\u001b[1;32m     35\u001b[0m \u001b[43m                       \u001b[49m\u001b[43mrecommender_input_args_last_test\u001b[49m\u001b[43m \u001b[49m\u001b[38;5;241;43m=\u001b[39;49m\u001b[43m \u001b[49m\u001b[43mrecommender_input_args_last_test\u001b[49m\u001b[43m,\u001b[49m\n\u001b[1;32m     36\u001b[0m \u001b[43m                       \u001b[49m\u001b[43mhyperparameter_search_space\u001b[49m\u001b[43m \u001b[49m\u001b[38;5;241;43m=\u001b[39;49m\u001b[43m \u001b[49m\u001b[43mhyperparameters_range_dictionary\u001b[49m\u001b[43m,\u001b[49m\n\u001b[1;32m     37\u001b[0m \u001b[43m                       \u001b[49m\u001b[43mn_cases\u001b[49m\u001b[43m \u001b[49m\u001b[38;5;241;43m=\u001b[39;49m\u001b[43m \u001b[49m\u001b[43mn_cases\u001b[49m\u001b[43m,\u001b[49m\n\u001b[1;32m     38\u001b[0m \u001b[43m                       \u001b[49m\u001b[43mn_random_starts\u001b[49m\u001b[43m \u001b[49m\u001b[38;5;241;43m=\u001b[39;49m\u001b[43m \u001b[49m\u001b[43mn_random_starts\u001b[49m\u001b[43m,\u001b[49m\n\u001b[1;32m     39\u001b[0m \u001b[43m                       \u001b[49m\u001b[43msave_model\u001b[49m\u001b[43m \u001b[49m\u001b[38;5;241;43m=\u001b[39;49m\u001b[43m \u001b[49m\u001b[38;5;124;43m\"\u001b[39;49m\u001b[38;5;124;43mbest\u001b[39;49m\u001b[38;5;124;43m\"\u001b[39;49m\u001b[43m,\u001b[49m\n\u001b[1;32m     40\u001b[0m \u001b[43m                       \u001b[49m\u001b[43moutput_folder_path\u001b[49m\u001b[43m \u001b[49m\u001b[38;5;241;43m=\u001b[39;49m\u001b[43m \u001b[49m\u001b[43moutput_folder_path\u001b[49m\u001b[43m,\u001b[49m\u001b[43m \u001b[49m\u001b[38;5;66;43;03m# Where to save the results\u001b[39;49;00m\n\u001b[1;32m     41\u001b[0m \u001b[43m                       \u001b[49m\u001b[43moutput_file_name_root\u001b[49m\u001b[43m \u001b[49m\u001b[38;5;241;43m=\u001b[39;49m\u001b[43m \u001b[49m\u001b[43mRP3betaRecommender\u001b[49m\u001b[38;5;241;43m.\u001b[39;49m\u001b[43mRECOMMENDER_NAME\u001b[49m\u001b[43m,\u001b[49m\u001b[43m \u001b[49m\u001b[38;5;66;43;03m# How to call the files\u001b[39;49;00m\n\u001b[1;32m     42\u001b[0m \u001b[43m                       \u001b[49m\u001b[43mmetric_to_optimize\u001b[49m\u001b[43m \u001b[49m\u001b[38;5;241;43m=\u001b[39;49m\u001b[43m \u001b[49m\u001b[43mmetric_to_optimize\u001b[49m\u001b[43m,\u001b[49m\n\u001b[1;32m     43\u001b[0m \u001b[43m                       \u001b[49m\u001b[43mcutoff_to_optimize\u001b[49m\u001b[43m \u001b[49m\u001b[38;5;241;43m=\u001b[39;49m\u001b[43m \u001b[49m\u001b[43mcutoff_to_optimize\u001b[49m\u001b[43m,\u001b[49m\n\u001b[1;32m     44\u001b[0m \u001b[43m                      \u001b[49m\u001b[43m)\u001b[49m\n",
      "File \u001b[0;32m~/Desktop/RecSysCompetition/Competition/src/HyperparameterTuning/SearchBayesianSkopt.py:340\u001b[0m, in \u001b[0;36mSearchBayesianSkopt.search\u001b[0;34m(self, recommender_input_args, hyperparameter_search_space, metric_to_optimize, cutoff_to_optimize, n_cases, n_random_starts, output_folder_path, output_file_name_root, save_model, save_metadata, resume_from_saved, recommender_input_args_last_test, evaluate_on_test, max_total_time, terminate_on_memory_error)\u001b[0m\n\u001b[1;32m    333\u001b[0m         \u001b[38;5;28mself\u001b[39m\u001b[38;5;241m.\u001b[39mn_loaded_counter \u001b[38;5;241m=\u001b[39m \u001b[38;5;28mself\u001b[39m\u001b[38;5;241m.\u001b[39mmodel_counter\n\u001b[1;32m    336\u001b[0m     \u001b[38;5;28;01mif\u001b[39;00m \u001b[38;5;28mself\u001b[39m\u001b[38;5;241m.\u001b[39mn_calls \u001b[38;5;241m-\u001b[39m \u001b[38;5;28mself\u001b[39m\u001b[38;5;241m.\u001b[39mmodel_counter \u001b[38;5;241m>\u001b[39m \u001b[38;5;241m0\u001b[39m:\n\u001b[1;32m    337\u001b[0m         \u001b[38;5;66;03m# When resuming an incomplete search the gp_minimize will continue to tell you \"Evaluating function at random point\" instead\u001b[39;00m\n\u001b[1;32m    338\u001b[0m         \u001b[38;5;66;03m# of \"Searching for the next optimal point\". This may be due to a bug in the print rather than the underlying process\u001b[39;00m\n\u001b[1;32m    339\u001b[0m         \u001b[38;5;66;03m# https://github.com/scikit-optimize/scikit-optimize/issues/949\u001b[39;00m\n\u001b[0;32m--> 340\u001b[0m         \u001b[38;5;28mself\u001b[39m\u001b[38;5;241m.\u001b[39mresult \u001b[38;5;241m=\u001b[39m \u001b[43mgp_minimize\u001b[49m\u001b[43m(\u001b[49m\u001b[38;5;28;43mself\u001b[39;49m\u001b[38;5;241;43m.\u001b[39;49m\u001b[43m_objective_function_list_input\u001b[49m\u001b[43m,\u001b[49m\n\u001b[1;32m    341\u001b[0m \u001b[43m                                  \u001b[49m\u001b[38;5;28;43mself\u001b[39;49m\u001b[38;5;241;43m.\u001b[39;49m\u001b[43mhyperparams_values\u001b[49m\u001b[43m,\u001b[49m\n\u001b[1;32m    342\u001b[0m \u001b[43m                                  \u001b[49m\u001b[43mbase_estimator\u001b[49m\u001b[38;5;241;43m=\u001b[39;49m\u001b[38;5;28;43;01mNone\u001b[39;49;00m\u001b[43m,\u001b[49m\n\u001b[1;32m    343\u001b[0m \u001b[43m                                  \u001b[49m\u001b[43mn_calls\u001b[49m\u001b[38;5;241;43m=\u001b[39;49m\u001b[38;5;28;43mmax\u001b[39;49m\u001b[43m(\u001b[49m\u001b[38;5;241;43m0\u001b[39;49m\u001b[43m,\u001b[49m\u001b[43m \u001b[49m\u001b[38;5;28;43mself\u001b[39;49m\u001b[38;5;241;43m.\u001b[39;49m\u001b[43mn_calls\u001b[49m\u001b[43m \u001b[49m\u001b[38;5;241;43m-\u001b[39;49m\u001b[43m \u001b[49m\u001b[38;5;28;43mself\u001b[39;49m\u001b[38;5;241;43m.\u001b[39;49m\u001b[43mmodel_counter\u001b[49m\u001b[43m)\u001b[49m\u001b[43m,\u001b[49m\n\u001b[1;32m    344\u001b[0m \u001b[43m                                  \u001b[49m\u001b[43mn_initial_points\u001b[49m\u001b[38;5;241;43m=\u001b[39;49m\u001b[43m \u001b[49m\u001b[38;5;28;43mmax\u001b[39;49m\u001b[43m(\u001b[49m\u001b[38;5;241;43m0\u001b[39;49m\u001b[43m,\u001b[49m\u001b[43m \u001b[49m\u001b[38;5;28;43mself\u001b[39;49m\u001b[38;5;241;43m.\u001b[39;49m\u001b[43mn_random_starts\u001b[49m\u001b[43m \u001b[49m\u001b[38;5;241;43m-\u001b[39;49m\u001b[43m \u001b[49m\u001b[38;5;28;43mself\u001b[39;49m\u001b[38;5;241;43m.\u001b[39;49m\u001b[43mmodel_counter\u001b[49m\u001b[43m)\u001b[49m\u001b[43m,\u001b[49m\n\u001b[1;32m    345\u001b[0m \u001b[43m                                  \u001b[49m\u001b[43minitial_point_generator\u001b[49m\u001b[43m \u001b[49m\u001b[38;5;241;43m=\u001b[39;49m\u001b[43m \u001b[49m\u001b[38;5;124;43m\"\u001b[39;49m\u001b[38;5;124;43mrandom\u001b[39;49m\u001b[38;5;124;43m\"\u001b[39;49m\u001b[43m,\u001b[49m\n\u001b[1;32m    346\u001b[0m \u001b[43m                                  \u001b[49m\u001b[43macq_func\u001b[49m\u001b[38;5;241;43m=\u001b[39;49m\u001b[38;5;28;43mself\u001b[39;49m\u001b[38;5;241;43m.\u001b[39;49m\u001b[43macq_func\u001b[49m\u001b[43m,\u001b[49m\n\u001b[1;32m    347\u001b[0m \u001b[43m                                  \u001b[49m\u001b[43macq_optimizer\u001b[49m\u001b[38;5;241;43m=\u001b[39;49m\u001b[38;5;28;43mself\u001b[39;49m\u001b[38;5;241;43m.\u001b[39;49m\u001b[43macq_optimizer\u001b[49m\u001b[43m,\u001b[49m\n\u001b[1;32m    348\u001b[0m \u001b[43m                                  \u001b[49m\u001b[43mx0\u001b[49m\u001b[38;5;241;43m=\u001b[39;49m\u001b[38;5;28;43mself\u001b[39;49m\u001b[38;5;241;43m.\u001b[39;49m\u001b[43mx0\u001b[49m\u001b[43m,\u001b[49m\n\u001b[1;32m    349\u001b[0m \u001b[43m                                  \u001b[49m\u001b[43my0\u001b[49m\u001b[38;5;241;43m=\u001b[39;49m\u001b[38;5;28;43mself\u001b[39;49m\u001b[38;5;241;43m.\u001b[39;49m\u001b[43my0\u001b[49m\u001b[43m,\u001b[49m\n\u001b[1;32m    350\u001b[0m \u001b[43m                                  \u001b[49m\u001b[43mrandom_state\u001b[49m\u001b[38;5;241;43m=\u001b[39;49m\u001b[38;5;28;43mself\u001b[39;49m\u001b[38;5;241;43m.\u001b[39;49m\u001b[43mrandom_state\u001b[49m\u001b[43m,\u001b[49m\n\u001b[1;32m    351\u001b[0m \u001b[43m                                  \u001b[49m\u001b[43mverbose\u001b[49m\u001b[38;5;241;43m=\u001b[39;49m\u001b[38;5;28;43mself\u001b[39;49m\u001b[38;5;241;43m.\u001b[39;49m\u001b[43mverbose\u001b[49m\u001b[43m,\u001b[49m\n\u001b[1;32m    352\u001b[0m \u001b[43m                                  \u001b[49m\u001b[43mcallback\u001b[49m\u001b[38;5;241;43m=\u001b[39;49m\u001b[38;5;28;43;01mNone\u001b[39;49;00m\u001b[43m,\u001b[49m\n\u001b[1;32m    353\u001b[0m \u001b[43m                                  \u001b[49m\u001b[43mn_points\u001b[49m\u001b[38;5;241;43m=\u001b[39;49m\u001b[38;5;28;43mself\u001b[39;49m\u001b[38;5;241;43m.\u001b[39;49m\u001b[43mn_point\u001b[49m\u001b[43m,\u001b[49m\n\u001b[1;32m    354\u001b[0m \u001b[43m                                  \u001b[49m\u001b[43mn_restarts_optimizer\u001b[49m\u001b[38;5;241;43m=\u001b[39;49m\u001b[38;5;28;43mself\u001b[39;49m\u001b[38;5;241;43m.\u001b[39;49m\u001b[43mn_restarts_optimizer\u001b[49m\u001b[43m,\u001b[49m\n\u001b[1;32m    355\u001b[0m \u001b[43m                                  \u001b[49m\u001b[43mxi\u001b[49m\u001b[38;5;241;43m=\u001b[39;49m\u001b[38;5;28;43mself\u001b[39;49m\u001b[38;5;241;43m.\u001b[39;49m\u001b[43mxi\u001b[49m\u001b[43m,\u001b[49m\n\u001b[1;32m    356\u001b[0m \u001b[43m                                  \u001b[49m\u001b[43mkappa\u001b[49m\u001b[38;5;241;43m=\u001b[39;49m\u001b[38;5;28;43mself\u001b[39;49m\u001b[38;5;241;43m.\u001b[39;49m\u001b[43mkappa\u001b[49m\u001b[43m,\u001b[49m\n\u001b[1;32m    357\u001b[0m \u001b[43m                                  \u001b[49m\u001b[43mnoise\u001b[49m\u001b[38;5;241;43m=\u001b[39;49m\u001b[38;5;28;43mself\u001b[39;49m\u001b[38;5;241;43m.\u001b[39;49m\u001b[43mnoise\u001b[49m\u001b[43m,\u001b[49m\n\u001b[1;32m    358\u001b[0m \u001b[43m                                  \u001b[49m\u001b[43mn_jobs\u001b[49m\u001b[38;5;241;43m=\u001b[39;49m\u001b[38;5;28;43mself\u001b[39;49m\u001b[38;5;241;43m.\u001b[39;49m\u001b[43mn_jobs\u001b[49m\u001b[43m)\u001b[49m\n\u001b[1;32m    360\u001b[0m \u001b[38;5;28;01mexcept\u001b[39;00m \u001b[38;5;167;01mValueError\u001b[39;00m \u001b[38;5;28;01mas\u001b[39;00m e:\n\u001b[1;32m    361\u001b[0m     traceback\u001b[38;5;241m.\u001b[39mprint_exc()\n",
      "File \u001b[0;32m~/miniforge3/envs/RecSys/lib/python3.8/site-packages/skopt/optimizer/gp.py:259\u001b[0m, in \u001b[0;36mgp_minimize\u001b[0;34m(func, dimensions, base_estimator, n_calls, n_random_starts, n_initial_points, initial_point_generator, acq_func, acq_optimizer, x0, y0, random_state, verbose, callback, n_points, n_restarts_optimizer, xi, kappa, noise, n_jobs, model_queue_size)\u001b[0m\n\u001b[1;32m    254\u001b[0m \u001b[38;5;28;01mif\u001b[39;00m base_estimator \u001b[38;5;129;01mis\u001b[39;00m \u001b[38;5;28;01mNone\u001b[39;00m:\n\u001b[1;32m    255\u001b[0m     base_estimator \u001b[38;5;241m=\u001b[39m cook_estimator(\n\u001b[1;32m    256\u001b[0m         \u001b[38;5;124m\"\u001b[39m\u001b[38;5;124mGP\u001b[39m\u001b[38;5;124m\"\u001b[39m, space\u001b[38;5;241m=\u001b[39mspace, random_state\u001b[38;5;241m=\u001b[39mrng\u001b[38;5;241m.\u001b[39mrandint(\u001b[38;5;241m0\u001b[39m, np\u001b[38;5;241m.\u001b[39miinfo(np\u001b[38;5;241m.\u001b[39mint32)\u001b[38;5;241m.\u001b[39mmax),\n\u001b[1;32m    257\u001b[0m         noise\u001b[38;5;241m=\u001b[39mnoise)\n\u001b[0;32m--> 259\u001b[0m \u001b[38;5;28;01mreturn\u001b[39;00m \u001b[43mbase_minimize\u001b[49m\u001b[43m(\u001b[49m\n\u001b[1;32m    260\u001b[0m \u001b[43m    \u001b[49m\u001b[43mfunc\u001b[49m\u001b[43m,\u001b[49m\u001b[43m \u001b[49m\u001b[43mspace\u001b[49m\u001b[43m,\u001b[49m\u001b[43m \u001b[49m\u001b[43mbase_estimator\u001b[49m\u001b[38;5;241;43m=\u001b[39;49m\u001b[43mbase_estimator\u001b[49m\u001b[43m,\u001b[49m\n\u001b[1;32m    261\u001b[0m \u001b[43m    \u001b[49m\u001b[43macq_func\u001b[49m\u001b[38;5;241;43m=\u001b[39;49m\u001b[43macq_func\u001b[49m\u001b[43m,\u001b[49m\n\u001b[1;32m    262\u001b[0m \u001b[43m    \u001b[49m\u001b[43mxi\u001b[49m\u001b[38;5;241;43m=\u001b[39;49m\u001b[43mxi\u001b[49m\u001b[43m,\u001b[49m\u001b[43m \u001b[49m\u001b[43mkappa\u001b[49m\u001b[38;5;241;43m=\u001b[39;49m\u001b[43mkappa\u001b[49m\u001b[43m,\u001b[49m\u001b[43m \u001b[49m\u001b[43macq_optimizer\u001b[49m\u001b[38;5;241;43m=\u001b[39;49m\u001b[43macq_optimizer\u001b[49m\u001b[43m,\u001b[49m\u001b[43m \u001b[49m\u001b[43mn_calls\u001b[49m\u001b[38;5;241;43m=\u001b[39;49m\u001b[43mn_calls\u001b[49m\u001b[43m,\u001b[49m\n\u001b[1;32m    263\u001b[0m \u001b[43m    \u001b[49m\u001b[43mn_points\u001b[49m\u001b[38;5;241;43m=\u001b[39;49m\u001b[43mn_points\u001b[49m\u001b[43m,\u001b[49m\u001b[43m \u001b[49m\u001b[43mn_random_starts\u001b[49m\u001b[38;5;241;43m=\u001b[39;49m\u001b[43mn_random_starts\u001b[49m\u001b[43m,\u001b[49m\n\u001b[1;32m    264\u001b[0m \u001b[43m    \u001b[49m\u001b[43mn_initial_points\u001b[49m\u001b[38;5;241;43m=\u001b[39;49m\u001b[43mn_initial_points\u001b[49m\u001b[43m,\u001b[49m\n\u001b[1;32m    265\u001b[0m \u001b[43m    \u001b[49m\u001b[43minitial_point_generator\u001b[49m\u001b[38;5;241;43m=\u001b[39;49m\u001b[43minitial_point_generator\u001b[49m\u001b[43m,\u001b[49m\n\u001b[1;32m    266\u001b[0m \u001b[43m    \u001b[49m\u001b[43mn_restarts_optimizer\u001b[49m\u001b[38;5;241;43m=\u001b[39;49m\u001b[43mn_restarts_optimizer\u001b[49m\u001b[43m,\u001b[49m\n\u001b[1;32m    267\u001b[0m \u001b[43m    \u001b[49m\u001b[43mx0\u001b[49m\u001b[38;5;241;43m=\u001b[39;49m\u001b[43mx0\u001b[49m\u001b[43m,\u001b[49m\u001b[43m \u001b[49m\u001b[43my0\u001b[49m\u001b[38;5;241;43m=\u001b[39;49m\u001b[43my0\u001b[49m\u001b[43m,\u001b[49m\u001b[43m \u001b[49m\u001b[43mrandom_state\u001b[49m\u001b[38;5;241;43m=\u001b[39;49m\u001b[43mrng\u001b[49m\u001b[43m,\u001b[49m\u001b[43m \u001b[49m\u001b[43mverbose\u001b[49m\u001b[38;5;241;43m=\u001b[39;49m\u001b[43mverbose\u001b[49m\u001b[43m,\u001b[49m\n\u001b[1;32m    268\u001b[0m \u001b[43m    \u001b[49m\u001b[43mcallback\u001b[49m\u001b[38;5;241;43m=\u001b[39;49m\u001b[43mcallback\u001b[49m\u001b[43m,\u001b[49m\u001b[43m \u001b[49m\u001b[43mn_jobs\u001b[49m\u001b[38;5;241;43m=\u001b[39;49m\u001b[43mn_jobs\u001b[49m\u001b[43m,\u001b[49m\u001b[43m \u001b[49m\u001b[43mmodel_queue_size\u001b[49m\u001b[38;5;241;43m=\u001b[39;49m\u001b[43mmodel_queue_size\u001b[49m\u001b[43m)\u001b[49m\n",
      "File \u001b[0;32m~/miniforge3/envs/RecSys/lib/python3.8/site-packages/skopt/optimizer/base.py:299\u001b[0m, in \u001b[0;36mbase_minimize\u001b[0;34m(func, dimensions, base_estimator, n_calls, n_random_starts, n_initial_points, initial_point_generator, acq_func, acq_optimizer, x0, y0, random_state, verbose, callback, n_points, n_restarts_optimizer, xi, kappa, n_jobs, model_queue_size)\u001b[0m\n\u001b[1;32m    297\u001b[0m \u001b[38;5;28;01mfor\u001b[39;00m n \u001b[38;5;129;01min\u001b[39;00m \u001b[38;5;28mrange\u001b[39m(n_calls):\n\u001b[1;32m    298\u001b[0m     next_x \u001b[38;5;241m=\u001b[39m optimizer\u001b[38;5;241m.\u001b[39mask()\n\u001b[0;32m--> 299\u001b[0m     next_y \u001b[38;5;241m=\u001b[39m \u001b[43mfunc\u001b[49m\u001b[43m(\u001b[49m\u001b[43mnext_x\u001b[49m\u001b[43m)\u001b[49m\n\u001b[1;32m    300\u001b[0m     result \u001b[38;5;241m=\u001b[39m optimizer\u001b[38;5;241m.\u001b[39mtell(next_x, next_y)\n\u001b[1;32m    301\u001b[0m     result\u001b[38;5;241m.\u001b[39mspecs \u001b[38;5;241m=\u001b[39m specs\n",
      "File \u001b[0;32m~/Desktop/RecSysCompetition/Competition/src/HyperparameterTuning/SearchBayesianSkopt.py:415\u001b[0m, in \u001b[0;36mSearchBayesianSkopt._objective_function_list_input\u001b[0;34m(self, current_fit_hyperparameters_list_of_values)\u001b[0m\n\u001b[1;32m    411\u001b[0m         \u001b[38;5;28;01mraise\u001b[39;00m \u001b[38;5;167;01mTimeoutError\u001b[39;00m(\u001b[38;5;28mself\u001b[39m\u001b[38;5;241m.\u001b[39mmax_total_time, total_current_time \u001b[38;5;241m+\u001b[39m estimated_last_time)\n\u001b[1;32m    414\u001b[0m current_fit_hyperparameters_dict \u001b[38;5;241m=\u001b[39m \u001b[38;5;28mdict\u001b[39m(\u001b[38;5;28mzip\u001b[39m(\u001b[38;5;28mself\u001b[39m\u001b[38;5;241m.\u001b[39mhyperparams_names, current_fit_hyperparameters_list_of_values))\n\u001b[0;32m--> 415\u001b[0m result \u001b[38;5;241m=\u001b[39m \u001b[38;5;28;43mself\u001b[39;49m\u001b[38;5;241;43m.\u001b[39;49m\u001b[43m_objective_function\u001b[49m\u001b[43m(\u001b[49m\u001b[43mcurrent_fit_hyperparameters_dict\u001b[49m\u001b[43m)\u001b[49m\n\u001b[1;32m    417\u001b[0m \u001b[38;5;66;03m# The search can only progress if there is at least a valid config in the initial random start\u001b[39;00m\n\u001b[1;32m    418\u001b[0m \u001b[38;5;28;01mif\u001b[39;00m \u001b[38;5;28mself\u001b[39m\u001b[38;5;241m.\u001b[39mmetadata_dict[\u001b[38;5;124m'\u001b[39m\u001b[38;5;124mresult_on_validation_df\u001b[39m\u001b[38;5;124m'\u001b[39m] \u001b[38;5;129;01mis\u001b[39;00m \u001b[38;5;28;01mNone\u001b[39;00m \u001b[38;5;129;01mand\u001b[39;00m \u001b[38;5;28mself\u001b[39m\u001b[38;5;241m.\u001b[39mmodel_counter \u001b[38;5;241m>\u001b[39m\u001b[38;5;241m=\u001b[39m \u001b[38;5;28mself\u001b[39m\u001b[38;5;241m.\u001b[39mn_random_starts:\n",
      "File \u001b[0;32m~/Desktop/RecSysCompetition/Competition/src/HyperparameterTuning/SearchAbstractClass.py:539\u001b[0m, in \u001b[0;36mSearchAbstractClass._objective_function\u001b[0;34m(self, current_fit_hyperparameters_dict)\u001b[0m\n\u001b[1;32m    534\u001b[0m             recommender_instance\u001b[38;5;241m.\u001b[39msave_model(\u001b[38;5;28mself\u001b[39m\u001b[38;5;241m.\u001b[39moutput_folder_path, file_name \u001b[38;5;241m=\u001b[39m\u001b[38;5;28mself\u001b[39m\u001b[38;5;241m.\u001b[39moutput_file_name_root \u001b[38;5;241m+\u001b[39m \u001b[38;5;124m\"\u001b[39m\u001b[38;5;124m_best_model\u001b[39m\u001b[38;5;124m\"\u001b[39m)\n\u001b[1;32m    537\u001b[0m \u001b[38;5;28;01mexcept\u001b[39;00m (\u001b[38;5;167;01mKeyboardInterrupt\u001b[39;00m, \u001b[38;5;167;01mSystemExit\u001b[39;00m) \u001b[38;5;28;01mas\u001b[39;00m e:\n\u001b[1;32m    538\u001b[0m     \u001b[38;5;66;03m# If getting a interrupt, terminate without saving the exception\u001b[39;00m\n\u001b[0;32m--> 539\u001b[0m     \u001b[38;5;28;01mraise\u001b[39;00m e\n\u001b[1;32m    541\u001b[0m \u001b[38;5;66;03m# Catch exception only if terminate_on_memory_error is True\u001b[39;00m\n\u001b[1;32m    542\u001b[0m \u001b[38;5;28;01mexcept\u001b[39;00m MEMORY_ERROR_EXCEPTION_TUPLE \u001b[38;5;28;01mif\u001b[39;00m \u001b[38;5;28mself\u001b[39m\u001b[38;5;241m.\u001b[39mterminate_on_memory_error \u001b[38;5;28;01melse\u001b[39;00m (NeverMatch) \u001b[38;5;28;01mas\u001b[39;00m e:\n",
      "File \u001b[0;32m~/Desktop/RecSysCompetition/Competition/src/HyperparameterTuning/SearchAbstractClass.py:468\u001b[0m, in \u001b[0;36mSearchAbstractClass._objective_function\u001b[0;34m(self, current_fit_hyperparameters_dict)\u001b[0m\n\u001b[1;32m    465\u001b[0m \u001b[38;5;28mself\u001b[39m\u001b[38;5;241m.\u001b[39m_print(\u001b[38;5;124m\"\u001b[39m\u001b[38;5;132;01m{}\u001b[39;00m\u001b[38;5;124m: Testing config: \u001b[39m\u001b[38;5;132;01m{}\u001b[39;00m\u001b[38;5;124m\"\u001b[39m\u001b[38;5;241m.\u001b[39mformat(\u001b[38;5;28mself\u001b[39m\u001b[38;5;241m.\u001b[39mALGORITHM_NAME, current_fit_hyperparameters_dict))\n\u001b[1;32m    467\u001b[0m was_already_evaluated_flag, was_already_evaluated_index \u001b[38;5;241m=\u001b[39m \u001b[38;5;28mself\u001b[39m\u001b[38;5;241m.\u001b[39m_was_already_evaluated_check(current_fit_hyperparameters_dict)\n\u001b[0;32m--> 468\u001b[0m result_df, recommender_instance \u001b[38;5;241m=\u001b[39m \u001b[38;5;28;43mself\u001b[39;49m\u001b[38;5;241;43m.\u001b[39;49m\u001b[43m_evaluate_on_validation\u001b[49m\u001b[43m(\u001b[49m\u001b[43mcurrent_fit_hyperparameters_dict\u001b[49m\u001b[43m,\u001b[49m\u001b[43m \u001b[49m\u001b[43mwas_already_evaluated_flag\u001b[49m\u001b[43m,\u001b[49m\u001b[43m \u001b[49m\u001b[43mwas_already_evaluated_index\u001b[49m\u001b[43m)\u001b[49m\n\u001b[1;32m    470\u001b[0m result_series \u001b[38;5;241m=\u001b[39m result_df\u001b[38;5;241m.\u001b[39mloc[\u001b[38;5;28mself\u001b[39m\u001b[38;5;241m.\u001b[39mmetadata_dict[\u001b[38;5;124m\"\u001b[39m\u001b[38;5;124mcutoff_to_optimize\u001b[39m\u001b[38;5;124m\"\u001b[39m]]\n\u001b[1;32m    471\u001b[0m current_result \u001b[38;5;241m=\u001b[39m \u001b[38;5;241m-\u001b[39m result_series[\u001b[38;5;28mself\u001b[39m\u001b[38;5;241m.\u001b[39mmetric_to_optimize]\n",
      "File \u001b[0;32m~/Desktop/RecSysCompetition/Competition/src/HyperparameterTuning/SearchAbstractClass.py:326\u001b[0m, in \u001b[0;36mSearchAbstractClass._evaluate_on_validation\u001b[0;34m(self, current_fit_hyperparameters, was_already_evaluated_flag, was_already_evaluated_index)\u001b[0m\n\u001b[1;32m    323\u001b[0m \u001b[38;5;28;01mfor\u001b[39;00m key \u001b[38;5;129;01min\u001b[39;00m current_fit_hyperparameters\u001b[38;5;241m.\u001b[39mkeys():\n\u001b[1;32m    324\u001b[0m     \u001b[38;5;28mself\u001b[39m\u001b[38;5;241m.\u001b[39mmetadata_dict[\u001b[38;5;124m\"\u001b[39m\u001b[38;5;124mhyperparameters_df\u001b[39m\u001b[38;5;124m\"\u001b[39m]\u001b[38;5;241m.\u001b[39mloc[\u001b[38;5;28mself\u001b[39m\u001b[38;5;241m.\u001b[39mmodel_counter,key] \u001b[38;5;241m=\u001b[39m current_fit_hyperparameters[key]\n\u001b[0;32m--> 326\u001b[0m recommender_instance, train_time \u001b[38;5;241m=\u001b[39m \u001b[38;5;28;43mself\u001b[39;49m\u001b[38;5;241;43m.\u001b[39;49m\u001b[43m_fit_model\u001b[49m\u001b[43m(\u001b[49m\u001b[43mcurrent_fit_hyperparameters\u001b[49m\u001b[43m)\u001b[49m\n\u001b[1;32m    327\u001b[0m start_time \u001b[38;5;241m=\u001b[39m time\u001b[38;5;241m.\u001b[39mtime()\n\u001b[1;32m    329\u001b[0m \u001b[38;5;66;03m# Evaluate recommender and get results for the first cutoff\u001b[39;00m\n",
      "File \u001b[0;32m~/Desktop/RecSysCompetition/Competition/src/HyperparameterTuning/SearchAbstractClass.py:297\u001b[0m, in \u001b[0;36mSearchAbstractClass._fit_model\u001b[0;34m(self, current_fit_hyperparameters)\u001b[0m\n\u001b[1;32m    293\u001b[0m \u001b[38;5;66;03m# Construct a new recommender instance\u001b[39;00m\n\u001b[1;32m    294\u001b[0m recommender_instance \u001b[38;5;241m=\u001b[39m \u001b[38;5;28mself\u001b[39m\u001b[38;5;241m.\u001b[39mrecommender_class(\u001b[38;5;241m*\u001b[39m\u001b[38;5;28mself\u001b[39m\u001b[38;5;241m.\u001b[39mrecommender_input_args\u001b[38;5;241m.\u001b[39mCONSTRUCTOR_POSITIONAL_ARGS,\n\u001b[1;32m    295\u001b[0m                                               \u001b[38;5;241m*\u001b[39m\u001b[38;5;241m*\u001b[39m\u001b[38;5;28mself\u001b[39m\u001b[38;5;241m.\u001b[39mrecommender_input_args\u001b[38;5;241m.\u001b[39mCONSTRUCTOR_KEYWORD_ARGS)\n\u001b[0;32m--> 297\u001b[0m \u001b[43mrecommender_instance\u001b[49m\u001b[38;5;241;43m.\u001b[39;49m\u001b[43mfit\u001b[49m\u001b[43m(\u001b[49m\u001b[38;5;241;43m*\u001b[39;49m\u001b[38;5;28;43mself\u001b[39;49m\u001b[38;5;241;43m.\u001b[39;49m\u001b[43mrecommender_input_args\u001b[49m\u001b[38;5;241;43m.\u001b[39;49m\u001b[43mFIT_POSITIONAL_ARGS\u001b[49m\u001b[43m,\u001b[49m\n\u001b[1;32m    298\u001b[0m \u001b[43m                         \u001b[49m\u001b[38;5;241;43m*\u001b[39;49m\u001b[38;5;241;43m*\u001b[39;49m\u001b[38;5;28;43mself\u001b[39;49m\u001b[38;5;241;43m.\u001b[39;49m\u001b[43mrecommender_input_args\u001b[49m\u001b[38;5;241;43m.\u001b[39;49m\u001b[43mFIT_KEYWORD_ARGS\u001b[49m\u001b[43m,\u001b[49m\n\u001b[1;32m    299\u001b[0m \u001b[43m                         \u001b[49m\u001b[38;5;241;43m*\u001b[39;49m\u001b[38;5;241;43m*\u001b[39;49m\u001b[38;5;28;43mself\u001b[39;49m\u001b[38;5;241;43m.\u001b[39;49m\u001b[43mrecommender_input_args\u001b[49m\u001b[38;5;241;43m.\u001b[39;49m\u001b[43mEARLYSTOPPING_KEYWORD_ARGS\u001b[49m\u001b[43m,\u001b[49m\n\u001b[1;32m    300\u001b[0m \u001b[43m                         \u001b[49m\u001b[38;5;241;43m*\u001b[39;49m\u001b[38;5;241;43m*\u001b[39;49m\u001b[43mcurrent_fit_hyperparameters\u001b[49m\u001b[43m)\u001b[49m\n\u001b[1;32m    302\u001b[0m train_time \u001b[38;5;241m=\u001b[39m time\u001b[38;5;241m.\u001b[39mtime() \u001b[38;5;241m-\u001b[39m start_time\n\u001b[1;32m    304\u001b[0m \u001b[38;5;28;01mreturn\u001b[39;00m recommender_instance, train_time\n",
      "File \u001b[0;32m~/Desktop/RecSysCompetition/Competition/src/Recommenders/GraphBased/RP3betaRecommender.py:109\u001b[0m, in \u001b[0;36mRP3betaRecommender.fit\u001b[0;34m(self, alpha, beta, min_rating, topK, implicit, normalize_similarity)\u001b[0m\n\u001b[1;32m    106\u001b[0m         relevant_items_partition \u001b[38;5;241m=\u001b[39m relevant_items_partition[non_zero_mask]\n\u001b[1;32m    107\u001b[0m         row_data \u001b[38;5;241m=\u001b[39m row_data[non_zero_mask]\n\u001b[0;32m--> 109\u001b[0m     \u001b[43msimilarity_builder\u001b[49m\u001b[38;5;241;43m.\u001b[39;49m\u001b[43madd_data_lists\u001b[49m\u001b[43m(\u001b[49m\u001b[43mrow_list_to_add\u001b[49m\u001b[38;5;241;43m=\u001b[39;49m\u001b[43mnp\u001b[49m\u001b[38;5;241;43m.\u001b[39;49m\u001b[43mones\u001b[49m\u001b[43m(\u001b[49m\u001b[38;5;28;43mlen\u001b[39;49m\u001b[43m(\u001b[49m\u001b[43mrow_data\u001b[49m\u001b[43m)\u001b[49m\u001b[43m,\u001b[49m\u001b[43m \u001b[49m\u001b[43mdtype\u001b[49m\u001b[43m \u001b[49m\u001b[38;5;241;43m=\u001b[39;49m\u001b[43m \u001b[49m\u001b[43mnp\u001b[49m\u001b[38;5;241;43m.\u001b[39;49m\u001b[43mint\u001b[49m\u001b[43m)\u001b[49m\u001b[43m \u001b[49m\u001b[38;5;241;43m*\u001b[39;49m\u001b[43m \u001b[49m\u001b[43m(\u001b[49m\u001b[43mcurrent_block_start_row\u001b[49m\u001b[43m \u001b[49m\u001b[38;5;241;43m+\u001b[39;49m\u001b[43m \u001b[49m\u001b[43mrow_in_block\u001b[49m\u001b[43m)\u001b[49m\u001b[43m,\u001b[49m\n\u001b[1;32m    110\u001b[0m \u001b[43m                                      \u001b[49m\u001b[43mcol_list_to_add\u001b[49m\u001b[38;5;241;43m=\u001b[39;49m\u001b[43mrelevant_items_partition\u001b[49m\u001b[43m,\u001b[49m\n\u001b[1;32m    111\u001b[0m \u001b[43m                                      \u001b[49m\u001b[43mdata_list_to_add\u001b[49m\u001b[38;5;241;43m=\u001b[39;49m\u001b[43mrow_data\u001b[49m\u001b[43m)\u001b[49m\n\u001b[1;32m    114\u001b[0m \u001b[38;5;28;01mif\u001b[39;00m time\u001b[38;5;241m.\u001b[39mtime() \u001b[38;5;241m-\u001b[39m start_time_printBatch \u001b[38;5;241m>\u001b[39m \u001b[38;5;241m300\u001b[39m \u001b[38;5;129;01mor\u001b[39;00m current_block_start_row \u001b[38;5;241m+\u001b[39m block_dim \u001b[38;5;241m==\u001b[39m Pui\u001b[38;5;241m.\u001b[39mshape[\u001b[38;5;241m1\u001b[39m]:\n\u001b[1;32m    115\u001b[0m     new_time_value, new_time_unit \u001b[38;5;241m=\u001b[39m seconds_to_biggest_unit(time\u001b[38;5;241m.\u001b[39mtime() \u001b[38;5;241m-\u001b[39m start_time)\n",
      "File \u001b[0;32m~/Desktop/RecSysCompetition/Competition/src/Recommenders/Similarity/Compute_Similarity_Python.py:53\u001b[0m, in \u001b[0;36mIncremental_Similarity_Builder.add_data_lists\u001b[0;34m(self, row_list_to_add, col_list_to_add, data_list_to_add)\u001b[0m\n\u001b[1;32m     50\u001b[0m     \u001b[38;5;28mself\u001b[39m\u001b[38;5;241m.\u001b[39m_data_array \u001b[38;5;241m=\u001b[39m np\u001b[38;5;241m.\u001b[39mconcatenate((\u001b[38;5;28mself\u001b[39m\u001b[38;5;241m.\u001b[39m_data_array, np\u001b[38;5;241m.\u001b[39mzeros(\u001b[38;5;28mself\u001b[39m\u001b[38;5;241m.\u001b[39m_additional_data_block, dtype\u001b[38;5;241m=\u001b[39m\u001b[38;5;28mself\u001b[39m\u001b[38;5;241m.\u001b[39m_dtype_data)))\n\u001b[1;32m     52\u001b[0m \u001b[38;5;28mself\u001b[39m\u001b[38;5;241m.\u001b[39m_row_array[\u001b[38;5;28mself\u001b[39m\u001b[38;5;241m.\u001b[39m_next_cell_pointer] \u001b[38;5;241m=\u001b[39m row_list_to_add[data_point_index]\n\u001b[0;32m---> 53\u001b[0m \u001b[38;5;28mself\u001b[39m\u001b[38;5;241m.\u001b[39m_col_array[\u001b[38;5;28;43mself\u001b[39;49m\u001b[38;5;241;43m.\u001b[39;49m\u001b[43m_next_cell_pointer\u001b[49m] \u001b[38;5;241m=\u001b[39m col_list_to_add[data_point_index]\n\u001b[1;32m     54\u001b[0m \u001b[38;5;28mself\u001b[39m\u001b[38;5;241m.\u001b[39m_data_array[\u001b[38;5;28mself\u001b[39m\u001b[38;5;241m.\u001b[39m_next_cell_pointer] \u001b[38;5;241m=\u001b[39m data_list_to_add[data_point_index]\n\u001b[1;32m     56\u001b[0m \u001b[38;5;28mself\u001b[39m\u001b[38;5;241m.\u001b[39m_next_cell_pointer \u001b[38;5;241m+\u001b[39m\u001b[38;5;241m=\u001b[39m \u001b[38;5;241m1\u001b[39m\n",
      "\u001b[0;31mKeyboardInterrupt\u001b[0m: "
     ]
    }
   ],
   "source": [
    "from skopt.space import Real, Integer, Categorical\n",
    "from HyperparameterTuning.SearchAbstractClass import SearchInputRecommenderArgs\n",
    "\n",
    "\n",
    "hyperparameters_range_dictionary = {\n",
    "    \"alpha\": Real(0.1, 1.0),\n",
    "    \"beta\": Real(0.1, 1.0),\n",
    "    \"topK\": Integer(10,1000),\n",
    "    \"implicit\": Categorical([True]),\n",
    "    \"min_rating\": Categorical([0,1]),\n",
    "}\n",
    "\n",
    "\n",
    "recommender_input_args = SearchInputRecommenderArgs(\n",
    "    CONSTRUCTOR_POSITIONAL_ARGS = [URM_train],     # Data needed in the fit during hyperTuning\n",
    "    CONSTRUCTOR_KEYWORD_ARGS = {},\n",
    "    FIT_POSITIONAL_ARGS = [],\n",
    "    FIT_KEYWORD_ARGS = {},\n",
    "    EARLYSTOPPING_KEYWORD_ARGS = {},     # Additional hyperparameters for the fit function\n",
    ")\n",
    "\n",
    "recommender_input_args_last_test = SearchInputRecommenderArgs(\n",
    "    CONSTRUCTOR_POSITIONAL_ARGS = [URM_validation],     # Data needed for the last step evaluation\n",
    "    CONSTRUCTOR_KEYWORD_ARGS = {},\n",
    "    FIT_POSITIONAL_ARGS = [],\n",
    "    FIT_KEYWORD_ARGS = {},\n",
    "    EARLYSTOPPING_KEYWORD_ARGS = {},     # Additional hyperparameters for the fit function\n",
    ")\n",
    "\n",
    "hyperparameterSearch = SearchBayesianSkopt(RP3betaRecommender,\n",
    "                                         evaluator_validation=evaluator_validation,\n",
    "                                         evaluator_test=evaluator_test)\n",
    "\n",
    "hyperparameterSearch.search(recommender_input_args,\n",
    "                       recommender_input_args_last_test = recommender_input_args_last_test,\n",
    "                       hyperparameter_search_space = hyperparameters_range_dictionary,\n",
    "                       n_cases = n_cases,\n",
    "                       n_random_starts = n_random_starts,\n",
    "                       save_model = \"best\",\n",
    "                       output_folder_path = output_folder_path, # Where to save the results\n",
    "                       output_file_name_root = RP3betaRecommender.RECOMMENDER_NAME, # How to call the files\n",
    "                       metric_to_optimize = metric_to_optimize,\n",
    "                       cutoff_to_optimize = cutoff_to_optimize,\n",
    "                      )"
   ]
  },
  {
   "cell_type": "code",
   "execution_count": null,
   "metadata": {
    "collapsed": false
   },
   "outputs": [],
   "source": [
    "search_metadata = data_loader.load_data(RP3betaRecommender.RECOMMENDER_NAME + \"_metadata.zip\")\n",
    "best_hyperparameters = search_metadata[\"hyperparameters_best\"]\n",
    "best_hyperparameters"
   ]
  },
  {
   "cell_type": "markdown",
   "metadata": {
    "collapsed": false
   },
   "source": [
    "## Create and train the model\n",
    "In this notebook we are creating a TopPop recommender, we load it from the course repository."
   ]
  },
  {
   "cell_type": "code",
   "execution_count": null,
   "metadata": {
    "collapsed": false
   },
   "outputs": [],
   "source": [
    "recommender = RP3betaRecommender(URM_train)\n",
    "recommender.fit(alpha=best_hyperparameters['alpha'], beta=best_hyperparameters['beta'], topK=best_hyperparameters['topK'], implicit=best_hyperparameters['implicit'], min_rating=best_hyperparameters['min_rating']) # Train the model"
   ]
  },
  {
   "cell_type": "markdown",
   "metadata": {
    "collapsed": false
   },
   "source": [
    "## Evaluate the model"
   ]
  },
  {
   "cell_type": "code",
   "execution_count": null,
   "metadata": {
    "collapsed": false
   },
   "outputs": [],
   "source": [
    "result_df, _ = evaluator_test.evaluateRecommender(recommender)\n",
    "print(result_df.loc[10])"
   ]
  },
  {
   "cell_type": "markdown",
   "metadata": {
    "collapsed": false
   },
   "source": [
    "## Create and save the submission\n",
    "We can now create the submission and save it as csv."
   ]
  },
  {
   "cell_type": "code",
   "execution_count": null,
   "metadata": {
    "collapsed": false
   },
   "outputs": [],
   "source": [
    "submission = create_submission(recommender)\n",
    "write_submission(submission=submission, file_name='RP3Beta_HT_'+'['+str(result_df.loc[10]['MAP'])+']')"
   ]
  }
 ],
 "metadata": {
  "kernelspec": {
   "display_name": "Python 3",
   "language": "python",
   "name": "python3"
  },
  "language_info": {
   "codemirror_mode": {
    "name": "ipython",
    "version": 2
   },
   "file_extension": ".py",
   "mimetype": "text/x-python",
   "name": "python",
   "nbconvert_exporter": "python",
   "pygments_lexer": "ipython2",
   "version": "3.10.8+ (heads/3.10:9338e9a, Oct 27 2022, 15:44:26) [Clang 14.0.0 (clang-1400.0.29.102)]"
  },
  "vscode": {
   "interpreter": {
    "hash": "17fc4d2c25f3f7b52070ad7daf58df051b07866eddbfe347f3458951d6e914c8"
   }
  }
 },
 "nbformat": 4,
 "nbformat_minor": 0
}
